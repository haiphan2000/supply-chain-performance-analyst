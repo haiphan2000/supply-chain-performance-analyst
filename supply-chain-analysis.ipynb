{
 "cells": [
  {
   "cell_type": "code",
   "execution_count": 1,
   "metadata": {},
   "outputs": [],
   "source": [
    "import pandas as pd\n",
    "import numpy as np\n",
    "import seaborn as sn\n",
    "import matplotlib.pyplot as plt\n",
    "from pandas.plotting import scatter_matrix"
   ]
  },
  {
   "cell_type": "code",
   "execution_count": 118,
   "metadata": {},
   "outputs": [
    {
     "data": {
      "text/html": [
       "<div>\n",
       "<style scoped>\n",
       "    .dataframe tbody tr th:only-of-type {\n",
       "        vertical-align: middle;\n",
       "    }\n",
       "\n",
       "    .dataframe tbody tr th {\n",
       "        vertical-align: top;\n",
       "    }\n",
       "\n",
       "    .dataframe thead th {\n",
       "        text-align: right;\n",
       "    }\n",
       "</style>\n",
       "<table border=\"1\" class=\"dataframe\">\n",
       "  <thead>\n",
       "    <tr style=\"text-align: right;\">\n",
       "      <th></th>\n",
       "      <th>Retail Order ID</th>\n",
       "      <th>Order ID</th>\n",
       "      <th>Order Date</th>\n",
       "      <th>Ship Date</th>\n",
       "      <th>Ship Mode</th>\n",
       "      <th>Customer ID</th>\n",
       "      <th>Customer Name</th>\n",
       "      <th>Segment</th>\n",
       "      <th>Postal Code</th>\n",
       "      <th>Country</th>\n",
       "      <th>...</th>\n",
       "      <th>Category</th>\n",
       "      <th>Returned</th>\n",
       "      <th>Sales</th>\n",
       "      <th>Quantity</th>\n",
       "      <th>Discount</th>\n",
       "      <th>Profit</th>\n",
       "      <th>Cost</th>\n",
       "      <th>Unit CP</th>\n",
       "      <th>Unit SP</th>\n",
       "      <th>Days</th>\n",
       "    </tr>\n",
       "  </thead>\n",
       "  <tbody>\n",
       "    <tr>\n",
       "      <th>0</th>\n",
       "      <td>1</td>\n",
       "      <td>CA-2016-152156</td>\n",
       "      <td>2016-08-11</td>\n",
       "      <td>2016-11-11</td>\n",
       "      <td>Second Class</td>\n",
       "      <td>CG-12520</td>\n",
       "      <td>Claire Gute</td>\n",
       "      <td>Consumer</td>\n",
       "      <td>42420</td>\n",
       "      <td>United States</td>\n",
       "      <td>...</td>\n",
       "      <td>Furniture</td>\n",
       "      <td>Not</td>\n",
       "      <td>261.9600</td>\n",
       "      <td>2</td>\n",
       "      <td>0.00</td>\n",
       "      <td>41.9136</td>\n",
       "      <td>220.0464</td>\n",
       "      <td>110.0232</td>\n",
       "      <td>130.9800</td>\n",
       "      <td>92</td>\n",
       "    </tr>\n",
       "    <tr>\n",
       "      <th>1</th>\n",
       "      <td>2</td>\n",
       "      <td>CA-2016-152156</td>\n",
       "      <td>2016-08-11</td>\n",
       "      <td>2016-11-11</td>\n",
       "      <td>Second Class</td>\n",
       "      <td>CG-12520</td>\n",
       "      <td>Claire Gute</td>\n",
       "      <td>Consumer</td>\n",
       "      <td>42420</td>\n",
       "      <td>United States</td>\n",
       "      <td>...</td>\n",
       "      <td>Furniture</td>\n",
       "      <td>Not</td>\n",
       "      <td>731.9400</td>\n",
       "      <td>3</td>\n",
       "      <td>0.00</td>\n",
       "      <td>219.5820</td>\n",
       "      <td>512.3580</td>\n",
       "      <td>170.7860</td>\n",
       "      <td>243.9800</td>\n",
       "      <td>92</td>\n",
       "    </tr>\n",
       "    <tr>\n",
       "      <th>2</th>\n",
       "      <td>3</td>\n",
       "      <td>CA-2016-138688</td>\n",
       "      <td>2016-12-06</td>\n",
       "      <td>2016-12-06</td>\n",
       "      <td>Second Class</td>\n",
       "      <td>DV-13045</td>\n",
       "      <td>Darrin Van Huff</td>\n",
       "      <td>Corporate</td>\n",
       "      <td>90036</td>\n",
       "      <td>United States</td>\n",
       "      <td>...</td>\n",
       "      <td>Office Supplies</td>\n",
       "      <td>Not</td>\n",
       "      <td>14.6200</td>\n",
       "      <td>2</td>\n",
       "      <td>0.00</td>\n",
       "      <td>6.8714</td>\n",
       "      <td>7.7486</td>\n",
       "      <td>3.8743</td>\n",
       "      <td>7.3100</td>\n",
       "      <td>0</td>\n",
       "    </tr>\n",
       "    <tr>\n",
       "      <th>3</th>\n",
       "      <td>4</td>\n",
       "      <td>US-2015-108966</td>\n",
       "      <td>2015-11-10</td>\n",
       "      <td>2015-11-10</td>\n",
       "      <td>Standard Class</td>\n",
       "      <td>SO-20335</td>\n",
       "      <td>Sean O'Donnell</td>\n",
       "      <td>Consumer</td>\n",
       "      <td>33311</td>\n",
       "      <td>United States</td>\n",
       "      <td>...</td>\n",
       "      <td>Furniture</td>\n",
       "      <td>Not</td>\n",
       "      <td>957.5775</td>\n",
       "      <td>5</td>\n",
       "      <td>0.45</td>\n",
       "      <td>-383.0310</td>\n",
       "      <td>1340.6085</td>\n",
       "      <td>268.1217</td>\n",
       "      <td>191.5155</td>\n",
       "      <td>0</td>\n",
       "    </tr>\n",
       "    <tr>\n",
       "      <th>4</th>\n",
       "      <td>5</td>\n",
       "      <td>US-2015-108966</td>\n",
       "      <td>2015-11-10</td>\n",
       "      <td>2015-11-10</td>\n",
       "      <td>Standard Class</td>\n",
       "      <td>SO-20335</td>\n",
       "      <td>Sean O'Donnell</td>\n",
       "      <td>Consumer</td>\n",
       "      <td>33311</td>\n",
       "      <td>United States</td>\n",
       "      <td>...</td>\n",
       "      <td>Office Supplies</td>\n",
       "      <td>Not</td>\n",
       "      <td>22.3680</td>\n",
       "      <td>2</td>\n",
       "      <td>0.20</td>\n",
       "      <td>2.5164</td>\n",
       "      <td>19.8516</td>\n",
       "      <td>9.9258</td>\n",
       "      <td>11.1840</td>\n",
       "      <td>0</td>\n",
       "    </tr>\n",
       "  </tbody>\n",
       "</table>\n",
       "<p>5 rows × 29 columns</p>\n",
       "</div>"
      ],
      "text/plain": [
       "   Retail Order ID        Order ID Order Date  Ship Date       Ship Mode  \\\n",
       "0                1  CA-2016-152156 2016-08-11 2016-11-11    Second Class   \n",
       "1                2  CA-2016-152156 2016-08-11 2016-11-11    Second Class   \n",
       "2                3  CA-2016-138688 2016-12-06 2016-12-06    Second Class   \n",
       "3                4  US-2015-108966 2015-11-10 2015-11-10  Standard Class   \n",
       "4                5  US-2015-108966 2015-11-10 2015-11-10  Standard Class   \n",
       "\n",
       "  Customer ID    Customer Name    Segment  Postal Code        Country  ...  \\\n",
       "0    CG-12520      Claire Gute   Consumer        42420  United States  ...   \n",
       "1    CG-12520      Claire Gute   Consumer        42420  United States  ...   \n",
       "2    DV-13045  Darrin Van Huff  Corporate        90036  United States  ...   \n",
       "3    SO-20335   Sean O'Donnell   Consumer        33311  United States  ...   \n",
       "4    SO-20335   Sean O'Donnell   Consumer        33311  United States  ...   \n",
       "\n",
       "          Category Returned     Sales  Quantity  Discount    Profit  \\\n",
       "0        Furniture      Not  261.9600         2      0.00   41.9136   \n",
       "1        Furniture      Not  731.9400         3      0.00  219.5820   \n",
       "2  Office Supplies      Not   14.6200         2      0.00    6.8714   \n",
       "3        Furniture      Not  957.5775         5      0.45 -383.0310   \n",
       "4  Office Supplies      Not   22.3680         2      0.20    2.5164   \n",
       "\n",
       "        Cost   Unit CP   Unit SP Days  \n",
       "0   220.0464  110.0232  130.9800   92  \n",
       "1   512.3580  170.7860  243.9800   92  \n",
       "2     7.7486    3.8743    7.3100    0  \n",
       "3  1340.6085  268.1217  191.5155    0  \n",
       "4    19.8516    9.9258   11.1840    0  \n",
       "\n",
       "[5 rows x 29 columns]"
      ]
     },
     "execution_count": 118,
     "metadata": {},
     "output_type": "execute_result"
    }
   ],
   "source": [
    "orginal_data = pd.read_excel('Supply Chain & Sales Datasets.xlsx', engine='openpyxl')\n",
    "\n",
    "orginal_data.head(5)\n"
   ]
  },
  {
   "cell_type": "code",
   "execution_count": 120,
   "metadata": {},
   "outputs": [
    {
     "data": {
      "text/plain": [
       "np.False_"
      ]
     },
     "execution_count": 120,
     "metadata": {},
     "output_type": "execute_result"
    }
   ],
   "source": [
    "orginal_data.isnull().values.any()"
   ]
  },
  {
   "cell_type": "code",
   "execution_count": 172,
   "metadata": {},
   "outputs": [
    {
     "name": "stderr",
     "output_type": "stream",
     "text": [
      "C:\\Users\\Admin\\AppData\\Local\\Temp\\ipykernel_4568\\460385979.py:5: SettingWithCopyWarning: \n",
      "A value is trying to be set on a copy of a slice from a DataFrame.\n",
      "Try using .loc[row_indexer,col_indexer] = value instead\n",
      "\n",
      "See the caveats in the documentation: https://pandas.pydata.org/pandas-docs/stable/user_guide/indexing.html#returning-a-view-versus-a-copy\n",
      "  data['Order Date'] = pd.to_datetime(data['Order Date'])\n"
     ]
    }
   ],
   "source": [
    "# Filter orders only from 2014\n",
    "data = orginal_data[orginal_data['Order Date'].dt.year == 2017]\n",
    "\n",
    "# Make sure 'Order Date' is in datetime format\n",
    "data['Order Date'] = pd.to_datetime(data['Order Date'])"
   ]
  },
  {
   "cell_type": "markdown",
   "metadata": {},
   "source": [
    "# Customer Retention Analysis"
   ]
  },
  {
   "cell_type": "code",
   "execution_count": 151,
   "metadata": {},
   "outputs": [
    {
     "name": "stdout",
     "output_type": "stream",
     "text": [
      "     Customer ID        Order ID Order Date\n",
      "1159    AA-10315  CA-2017-147039 2017-06-29\n",
      "9538    AA-10375  US-2017-169488 2017-07-09\n",
      "6747    AA-10375  CA-2017-100230 2017-11-12\n",
      "12      AA-10480  CA-2017-114412 2017-04-15\n",
      "7489    AA-10645  CA-2017-157196 2017-05-11\n",
      "...          ...             ...        ...\n",
      "1228    ZC-21910  CA-2017-100013 2017-06-11\n",
      "4100    ZC-21910  US-2017-102288 2017-06-19\n",
      "7315    ZC-21910  CA-2017-115322 2017-11-05\n",
      "8923    ZC-21910  CA-2017-133928 2017-11-06\n",
      "8341    ZD-21925  CA-2017-141481 2017-11-06\n",
      "\n",
      "[1687 rows x 3 columns]\n"
     ]
    }
   ],
   "source": [
    "# Drop duplicate orders (in case multiple rows exist per product in an order)\n",
    "retention_data = data[['Customer ID', 'Order ID', 'Order Date']].drop_duplicates()\n",
    "\n",
    "# Sort by Customer and Order Date\n",
    "retention_data = retention_data.sort_values(by=['Customer ID', 'Order Date'])\n",
    "\n",
    "print(retention_data)"
   ]
  },
  {
   "cell_type": "markdown",
   "metadata": {},
   "source": [
    "## Time Between Orders"
   ]
  },
  {
   "cell_type": "code",
   "execution_count": null,
   "metadata": {},
   "outputs": [
    {
     "name": "stdout",
     "output_type": "stream",
     "text": [
      "     Customer ID        Order ID Order Date  Days Between Orders\n",
      "2229    AA-10315  CA-2014-128055 2014-03-31                  NaN\n",
      "7468    AA-10315  CA-2014-138100 2014-09-15                168.0\n",
      "1172    AA-10375  CA-2014-158064 2014-04-21                  NaN\n",
      "3007    AA-10375  CA-2014-130729 2014-10-24                186.0\n",
      "1459    AA-10480  CA-2014-155271 2014-04-05                  NaN\n"
     ]
    }
   ],
   "source": [
    "# Calculate time difference between current and previous order per customer\n",
    "customer_orders = retention_data.copy()\n",
    "customer_orders['Days Between Orders'] = customer_orders.groupby('Customer ID')['Order Date'].diff().dt.days\n",
    "\n",
    "print(customer_orders)"
   ]
  },
  {
   "cell_type": "code",
   "execution_count": 132,
   "metadata": {},
   "outputs": [
    {
     "name": "stdout",
     "output_type": "stream",
     "text": [
      "    Customer ID  Avg Days Between Orders\n",
      "0      AA-10315                    168.0\n",
      "1      AA-10375                    186.0\n",
      "2      AA-10480                      NaN\n",
      "3      AA-10645                    161.0\n",
      "4      AB-10015                    135.0\n",
      "..          ...                      ...\n",
      "590    WB-21850                    126.5\n",
      "591    XP-21865                    125.5\n",
      "592    YC-21895                      NaN\n",
      "593    ZC-21910                     77.0\n",
      "594    ZD-21925                      NaN\n",
      "\n",
      "[595 rows x 2 columns]\n"
     ]
    }
   ],
   "source": [
    "average_time = customer_orders.groupby('Customer ID')['Days Between Orders'].mean().reset_index()\n",
    "average_time.columns = ['Customer ID', 'Avg Days Between Orders']\n",
    "print(average_time)"
   ]
  },
  {
   "cell_type": "code",
   "execution_count": 133,
   "metadata": {},
   "outputs": [],
   "source": [
    "def categorize_frequency(avg_days):\n",
    "    if pd.isna(avg_days):\n",
    "        return 'New Customer'  # If no previous orders, categorize as 'New'\n",
    "    elif avg_days <= 7:\n",
    "        return 'Frequent - Every Week'  # Orders are placed weekly or more frequently\n",
    "    elif avg_days <= 30:\n",
    "        return 'Occasional - Monthly'  # Orders are placed around once a month\n",
    "    elif avg_days <= 90:\n",
    "        return 'Rare - Quarterly'  # Orders are placed quarterly or every few months\n",
    "    else:\n",
    "        return 'Dormant - Inactive'  # No orders for 3 months or more"
   ]
  },
  {
   "cell_type": "code",
   "execution_count": 134,
   "metadata": {},
   "outputs": [
    {
     "name": "stdout",
     "output_type": "stream",
     "text": [
      "  Customer ID  Avg Days Between Orders Order Frequency Category\n",
      "0    AA-10315                    168.0       Dormant - Inactive\n",
      "1    AA-10375                    186.0       Dormant - Inactive\n",
      "2    AA-10480                      NaN             New Customer\n",
      "3    AA-10645                    161.0       Dormant - Inactive\n",
      "4    AB-10015                    135.0       Dormant - Inactive\n"
     ]
    }
   ],
   "source": [
    "# Apply categorization function\n",
    "average_time['Order Frequency Category'] = average_time['Avg Days Between Orders'].apply(categorize_frequency)\n",
    "\n",
    "# Display the result\n",
    "print(average_time[['Customer ID', 'Avg Days Between Orders', 'Order Frequency Category']].head())"
   ]
  },
  {
   "cell_type": "code",
   "execution_count": 137,
   "metadata": {},
   "outputs": [
    {
     "name": "stdout",
     "output_type": "stream",
     "text": [
      "                          Count  Percentage\n",
      "Order Frequency Category                   \n",
      "New Customer                332   55.798319\n",
      "Dormant - Inactive          145   24.369748\n",
      "Rare - Quarterly             82   13.781513\n",
      "Occasional - Monthly         28    4.705882\n",
      "Frequent - Every Week         8    1.344538\n"
     ]
    }
   ],
   "source": [
    "# Calculate count and percentage of each category\n",
    "frequency_count = average_time['Order Frequency Category'].value_counts()\n",
    "\n",
    "# Calculate the percentage\n",
    "frequency_percentage = (frequency_count / frequency_count.sum()) * 100\n",
    "\n",
    "# Combine the count and percentage into a DataFrame\n",
    "frequency_summary = pd.DataFrame({\n",
    "    'Count': frequency_count,\n",
    "    'Percentage': frequency_percentage\n",
    "})\n",
    "\n",
    "# Display the result\n",
    "print(frequency_summary)"
   ]
  },
  {
   "cell_type": "code",
   "execution_count": 136,
   "metadata": {},
   "outputs": [
    {
     "name": "stdout",
     "output_type": "stream",
     "text": [
      "Overall Optimal Time Between Orders: 94.0 days\n"
     ]
    }
   ],
   "source": [
    "# Calculate the overall optimal time between orders (e.g., using the median of all customers)\n",
    "overall_optimal_time = customer_orders['Days Between Orders'].median()\n",
    "\n",
    "print(f\"Overall Optimal Time Between Orders: {overall_optimal_time} days\")"
   ]
  },
  {
   "cell_type": "code",
   "execution_count": 138,
   "metadata": {},
   "outputs": [
    {
     "name": "stdout",
     "output_type": "stream",
     "text": [
      "Average Time Between Orders: 105.0909090909091 days\n"
     ]
    }
   ],
   "source": [
    "# Calculate the overall optimal time between orders (e.g., using the median of all customers)\n",
    "overall_avg_time = customer_orders['Days Between Orders'].mean()\n",
    "\n",
    "print(f\"Average Time Between Orders: {overall_avg_time} days\")"
   ]
  },
  {
   "cell_type": "markdown",
   "metadata": {},
   "source": [
    "## Purchase Frequency"
   ]
  },
  {
   "cell_type": "code",
   "execution_count": 158,
   "metadata": {},
   "outputs": [
    {
     "data": {
      "text/plain": [
       "Customer ID\n",
       "AA-10315    1\n",
       "AA-10375    2\n",
       "AA-10480    1\n",
       "AA-10645    1\n",
       "AB-10060    4\n",
       "           ..\n",
       "XP-21865    4\n",
       "YC-21895    1\n",
       "YS-21880    5\n",
       "ZC-21910    4\n",
       "ZD-21925    1\n",
       "Name: Order ID, Length: 693, dtype: int64"
      ]
     },
     "execution_count": 158,
     "metadata": {},
     "output_type": "execute_result"
    }
   ],
   "source": [
    "customer_order_count = retention_data.copy()\n",
    "\n",
    "# Step 1: Count the number of orders for each customer\n",
    "customer_order_counts = retention_data.groupby('Customer ID')['Order ID'].nunique()\n",
    "customer_order_counts"
   ]
  },
  {
   "cell_type": "code",
   "execution_count": 159,
   "metadata": {},
   "outputs": [
    {
     "data": {
      "text/plain": [
       "np.int64(1687)"
      ]
     },
     "execution_count": 159,
     "metadata": {},
     "output_type": "execute_result"
    }
   ],
   "source": [
    "# Step 2: Calculate the total number of orders made by all customers\n",
    "total_orders = customer_order_counts.sum()\n",
    "total_orders"
   ]
  },
  {
   "cell_type": "code",
   "execution_count": 164,
   "metadata": {},
   "outputs": [
    {
     "data": {
      "text/plain": [
       "np.int64(693)"
      ]
     },
     "execution_count": 164,
     "metadata": {},
     "output_type": "execute_result"
    }
   ],
   "source": [
    "# Step 3: Calculate the total number of distinct customers\n",
    "total_customers = customer_order_counts.count()\n",
    "total_customers"
   ]
  },
  {
   "cell_type": "code",
   "execution_count": 165,
   "metadata": {},
   "outputs": [
    {
     "name": "stdout",
     "output_type": "stream",
     "text": [
      "Purchase Frequency: 2.43\n"
     ]
    }
   ],
   "source": [
    "# Step 4: Calculate Purchase Frequency (average orders per customer)\n",
    "purchase_frequency = total_orders / total_customers\n",
    "\n",
    "print(f\"Purchase Frequency: {purchase_frequency:.2f}\")"
   ]
  },
  {
   "cell_type": "markdown",
   "metadata": {},
   "source": [
    "## Average Order Value"
   ]
  },
  {
   "cell_type": "markdown",
   "metadata": {},
   "source": [
    "# Top 5 days with the highest number of orders"
   ]
  },
  {
   "cell_type": "code",
   "execution_count": 173,
   "metadata": {},
   "outputs": [
    {
     "name": "stdout",
     "output_type": "stream",
     "text": [
      "    Order Date  Order Count\n",
      "9   2017-01-12           14\n",
      "32  2017-02-09           14\n",
      "35  2017-02-12           16\n",
      "58  2017-03-11           16\n",
      "83  2017-04-09           16\n",
      "161 2017-07-09           15\n",
      "221 2017-09-12           15\n",
      "276 2017-11-13           14\n",
      "282 2017-11-19           15\n",
      "287 2017-11-24           15\n"
     ]
    }
   ],
   "source": [
    "# Drop duplicate orders (in case there are multiple products per order)\n",
    "unique_orders = data[['Order ID', 'Order Date']].drop_duplicates()\n",
    "\n",
    "# Count number of orders per day\n",
    "orders_per_day = unique_orders.groupby('Order Date').size().reset_index(name='Order Count')\n",
    "\n",
    "# Sort and get top 5 days with most orders\n",
    "top_5_days = orders_per_day.sort_values(by='Order Count', ascending=False).head(10)\n",
    "\n",
    "# Now sort the top 5 by date in ascending order\n",
    "top_5_days = top_5_days.sort_values(by='Order Date', ascending=True)\n",
    "\n",
    "print(top_5_days)"
   ]
  },
  {
   "cell_type": "code",
   "execution_count": null,
   "metadata": {},
   "outputs": [],
   "source": [
    "customer_order_count = retention_data.copy()"
   ]
  },
  {
   "cell_type": "code",
   "execution_count": null,
   "metadata": {},
   "outputs": [],
   "source": [
    "customer_order_count"
   ]
  },
  {
   "cell_type": "code",
   "execution_count": 68,
   "metadata": {},
   "outputs": [
    {
     "name": "stdout",
     "output_type": "stream",
     "text": [
      "77\n",
      "1315\n"
     ]
    }
   ],
   "source": [
    "total_orders = data['Order ID'].nunique()\n",
    "returned_data = data[data['Returned'] == 'Yes']\n",
    "returned_order = returned_data['Order ID'].nunique()\n",
    "print(returned_order)\n",
    "print(total_orders)\n"
   ]
  },
  {
   "cell_type": "code",
   "execution_count": 54,
   "metadata": {},
   "outputs": [
    {
     "name": "stdout",
     "output_type": "stream",
     "text": [
      "0.05908183632734531\n"
     ]
    }
   ],
   "source": [
    "print(returned_order/total_orders)"
   ]
  },
  {
   "cell_type": "code",
   "execution_count": 21,
   "metadata": {},
   "outputs": [
    {
     "data": {
      "text/html": [
       "<div>\n",
       "<style scoped>\n",
       "    .dataframe tbody tr th:only-of-type {\n",
       "        vertical-align: middle;\n",
       "    }\n",
       "\n",
       "    .dataframe tbody tr th {\n",
       "        vertical-align: top;\n",
       "    }\n",
       "\n",
       "    .dataframe thead th {\n",
       "        text-align: right;\n",
       "    }\n",
       "</style>\n",
       "<table border=\"1\" class=\"dataframe\">\n",
       "  <thead>\n",
       "    <tr style=\"text-align: right;\">\n",
       "      <th></th>\n",
       "      <th>Profit</th>\n",
       "      <th>Days</th>\n",
       "      <th>Sales</th>\n",
       "      <th>Discount</th>\n",
       "      <th>Cost</th>\n",
       "      <th>Quantity</th>\n",
       "    </tr>\n",
       "  </thead>\n",
       "  <tbody>\n",
       "    <tr>\n",
       "      <th>0</th>\n",
       "      <td>41.9136</td>\n",
       "      <td>92</td>\n",
       "      <td>261.9600</td>\n",
       "      <td>0.00</td>\n",
       "      <td>220.0464</td>\n",
       "      <td>2</td>\n",
       "    </tr>\n",
       "    <tr>\n",
       "      <th>1</th>\n",
       "      <td>219.5820</td>\n",
       "      <td>92</td>\n",
       "      <td>731.9400</td>\n",
       "      <td>0.00</td>\n",
       "      <td>512.3580</td>\n",
       "      <td>3</td>\n",
       "    </tr>\n",
       "    <tr>\n",
       "      <th>2</th>\n",
       "      <td>6.8714</td>\n",
       "      <td>0</td>\n",
       "      <td>14.6200</td>\n",
       "      <td>0.00</td>\n",
       "      <td>7.7486</td>\n",
       "      <td>2</td>\n",
       "    </tr>\n",
       "    <tr>\n",
       "      <th>3</th>\n",
       "      <td>-383.0310</td>\n",
       "      <td>0</td>\n",
       "      <td>957.5775</td>\n",
       "      <td>0.45</td>\n",
       "      <td>1340.6085</td>\n",
       "      <td>5</td>\n",
       "    </tr>\n",
       "    <tr>\n",
       "      <th>4</th>\n",
       "      <td>2.5164</td>\n",
       "      <td>0</td>\n",
       "      <td>22.3680</td>\n",
       "      <td>0.20</td>\n",
       "      <td>19.8516</td>\n",
       "      <td>2</td>\n",
       "    </tr>\n",
       "  </tbody>\n",
       "</table>\n",
       "</div>"
      ],
      "text/plain": [
       "     Profit  Days     Sales  Discount       Cost  Quantity\n",
       "0   41.9136    92  261.9600      0.00   220.0464         2\n",
       "1  219.5820    92  731.9400      0.00   512.3580         3\n",
       "2    6.8714     0   14.6200      0.00     7.7486         2\n",
       "3 -383.0310     0  957.5775      0.45  1340.6085         5\n",
       "4    2.5164     0   22.3680      0.20    19.8516         2"
      ]
     },
     "execution_count": 21,
     "metadata": {},
     "output_type": "execute_result"
    }
   ],
   "source": [
    "selected_columns = ['Profit', 'Days', 'Sales', 'Discount', 'Cost', 'Quantity']\n",
    "corr_data = data[selected_columns]\n",
    "corr_data.head(5)"
   ]
  },
  {
   "cell_type": "code",
   "execution_count": 22,
   "metadata": {},
   "outputs": [
    {
     "data": {
      "text/plain": [
       "<Axes: >"
      ]
     },
     "execution_count": 22,
     "metadata": {},
     "output_type": "execute_result"
    },
    {
     "data": {
      "image/png": "[encoded data removed]",
      "text/plain": [
       "<Figure size 1000x1000 with 2 Axes>"
      ]
     },
     "metadata": {},
     "output_type": "display_data"
    }
   ],
   "source": [
    "correlation = corr_data.corr()\n",
    "fig = plt.subplots(figsize = (10,10))\n",
    "sn.heatmap(correlation, vmax=1, square = True, annot = True, cmap = 'Blues')"
   ]
  },
  {
   "cell_type": "code",
   "execution_count": 20,
   "metadata": {},
   "outputs": [
    {
     "name": "stdout",
     "output_type": "stream",
     "text": [
      "Product ID\n",
      "0                  False\n",
      "FUR-BO-10000112    False\n",
      "FUR-BO-10000330    False\n",
      "FUR-BO-10000362    False\n",
      "FUR-BO-10000468     True\n",
      "                   ...  \n",
      "TEC-PH-10004912    False\n",
      "TEC-PH-10004922     True\n",
      "TEC-PH-10004924     True\n",
      "TEC-PH-10004959    False\n",
      "TEC-PH-10004977    False\n",
      "Name: Unit CP, Length: 1863, dtype: bool\n"
     ]
    }
   ],
   "source": [
    "# Check if each Product ID has a unique Unit CP\n",
    "inconsistent_products = data.groupby(\"Product ID\")[\"Unit CP\"].nunique() > 1\n",
    "print(inconsistent_products)\n",
    "\n",
    "# Filter Product IDs where Unit CP is NOT consistent\n",
    "inconsistent_products = inconsistent_products[inconsistent_products].index\n"
   ]
  },
  {
   "cell_type": "code",
   "execution_count": null,
   "metadata": {},
   "outputs": [],
   "source": [
    "# Display results\n",
    "if len(inconsistent_products) > 0:\n",
    "    print(\"Products with inconsistent Unit CP:\", inconsistent_products.tolist())\n",
    "else:\n",
    "    print(\"All Product IDs have the same Unit CP.\")"
   ]
  },
  {
   "cell_type": "code",
   "execution_count": 25,
   "metadata": {},
   "outputs": [],
   "source": [
    "# Ensure necessary columns exist\n",
    "if not all(col in data.columns for col in ['Product ID', 'Quantity', 'Unit CP']):\n",
    "    raise ValueError(\"Dataset must contain 'Product ID', 'Quantity', and 'Unit Price' columns.\")"
   ]
  },
  {
   "cell_type": "code",
   "execution_count": 30,
   "metadata": {},
   "outputs": [],
   "source": [
    "# Step 2: Aggregate revenue per product\n",
    "df_abc = data.groupby(\"Sub-Category\")[\"Sales\"].sum().reset_index()\n",
    "\n",
    "# Step 3: Sort by revenue in descending order\n",
    "df_abc = df_abc.sort_values(by=\"Sales\", ascending=False)\n",
    "\n",
    "# Step 4: Compute cumulative percentage of total revenue\n",
    "df_abc[\"Cumulative Revenue\"] = df_abc[\"Sales\"].cumsum()\n",
    "df_abc[\"Cumulative Percentage\"] = (df_abc[\"Cumulative Revenue\"] / df_abc[\"Sales\"].sum()) * 100\n",
    "\n",
    "# Step 5: Assign ABC categories\n",
    "def categorize_abc(percentage):\n",
    "    if percentage <= 60:\n",
    "        return \"A\"\n",
    "    elif percentage <= 80:\n",
    "        return \"B\"\n",
    "    else:\n",
    "        return \"C\"\n",
    "\n",
    "df_abc[\"ABC Category\"] = df_abc[\"Cumulative Percentage\"].apply(categorize_abc)\n",
    "\n",
    "# Step 6: Select only required columns\n",
    "df_result = df_abc[[\"Sub-Category\", \"Cumulative Percentage\", \"ABC Category\"]]\n"
   ]
  },
  {
   "cell_type": "code",
   "execution_count": 33,
   "metadata": {},
   "outputs": [
    {
     "name": "stdout",
     "output_type": "stream",
     "text": [
      "   Sub-Category  Cumulative Percentage ABC Category\n",
      "14       Phones              14.365616            A\n",
      "6        Chairs              28.663412            A\n",
      "15      Storage              38.407602            A\n",
      "17       Tables              47.417068            A\n",
      "4       Binders              56.271876            A\n",
      "12     Machines              64.509669            B\n",
      "1   Accessories              71.795941            B\n",
      "7       Copiers              78.305082            B\n",
      "5     Bookcases              83.305950            C\n",
      "2    Appliances              87.986958            C\n",
      "10  Furnishings              91.978998            C\n",
      "13        Paper              95.395295            C\n",
      "16     Supplies              97.427052            C\n",
      "3           Art              98.607567            C\n",
      "8     Envelopes              99.324805            C\n",
      "11       Labels              99.868349            C\n",
      "9     Fasteners             100.000000            C\n",
      "0             0             100.000000            C\n"
     ]
    }
   ],
   "source": [
    "# Display results\n",
    "print(df_result)"
   ]
  },
  {
   "cell_type": "code",
   "execution_count": 42,
   "metadata": {},
   "outputs": [],
   "source": [
    "# Step 1: Group by Sub-Category and calculate demand statistics\n",
    "df_xyz = data.groupby(\"Sub-Category\")[\"Quantity\"].agg(['mean', 'std']).reset_index()\n",
    "\n",
    "# Step 2: Compute Coefficient of Variation (CV)\n",
    "df_xyz[\"CV\"] = df_xyz[\"std\"] / df_xyz[\"mean\"]\n",
    "\n",
    "# Step 3: Assign XYZ categories based on CV\n",
    "def categorize_xyz(cv):\n",
    "    if cv <= 0.1:\n",
    "        return \"X\"  # Stable demand\n",
    "    elif cv <= 0.3:\n",
    "        return \"Y\"  # Moderate variability\n",
    "    else:\n",
    "        return \"Z\"  # High variability\n",
    "\n",
    "df_xyz[\"XYZ Category\"] = df_xyz[\"CV\"].apply(categorize_xyz)"
   ]
  },
  {
   "cell_type": "code",
   "execution_count": 44,
   "metadata": {},
   "outputs": [
    {
     "name": "stdout",
     "output_type": "stream",
     "text": [
      "   Sub-Category      mean       std        CV XYZ Category\n",
      "0             0  0.000000       NaN       NaN            Z\n",
      "1   Accessories  3.840000  2.284698  0.594973            Z\n",
      "2    Appliances  3.710300  2.123038  0.572201            Z\n",
      "3           Art  3.768844  2.131957  0.565679            Z\n",
      "4       Binders  3.922521  2.291913  0.584296            Z\n",
      "5     Bookcases  3.807018  2.283352  0.599774            Z\n",
      "6        Chairs  3.818476  2.282652  0.597791            Z\n",
      "7       Copiers  3.441176  1.831583  0.532255            Z\n",
      "8     Envelopes  3.566929  2.045299  0.573406            Z\n",
      "9     Fasteners  4.211982  2.413551  0.573020            Z\n",
      "10  Furnishings  3.723093  2.155954  0.579076            Z\n",
      "11       Labels  3.846154  2.349248  0.610804            Z\n",
      "12     Machines  3.826087  2.165361  0.565947            Z\n",
      "13        Paper  3.779562  2.231560  0.590428            Z\n",
      "14       Phones  3.699663  2.189453  0.591798            Z\n",
      "15      Storage  3.732861  2.192409  0.587327            Z\n",
      "16     Supplies  3.405263  1.837002  0.539460            Z\n",
      "17       Tables  3.890282  2.446381  0.628844            Z\n"
     ]
    }
   ],
   "source": [
    "\n",
    "# Display final ABC-XYZ classification\n",
    "print(df_xyz)"
   ]
  }
 ],
 "metadata": {
  "kernelspec": {
   "display_name": "Python 3",
   "language": "python",
   "name": "python3"
  },
  "language_info": {
   "codemirror_mode": {
    "name": "ipython",
    "version": 3
   },
   "file_extension": ".py",
   "mimetype": "text/x-python",
   "name": "python",
   "nbconvert_exporter": "python",
   "pygments_lexer": "ipython3",
   "version": "3.12.2"
  }
 },
 "nbformat": 4,
 "nbformat_minor": 2
}
